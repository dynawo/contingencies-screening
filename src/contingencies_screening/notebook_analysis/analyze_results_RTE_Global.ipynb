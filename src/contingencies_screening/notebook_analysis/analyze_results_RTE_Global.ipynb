{
 "cells": [
  {
   "cell_type": "code",
   "execution_count": null,
   "id": "223b38e4-5d38-4d4f-9c7b-dcf76788f2ba",
   "metadata": {},
   "outputs": [],
   "source": [
    "import analyze_results_code"
   ]
  },
  {
   "cell_type": "markdown",
   "id": "113e1b9f-88ae-4078-bbcb-86ebd3be8cea",
   "metadata": {},
   "source": [
    "# GLOBAL ANALYSIS"
   ]
  },
  {
   "cell_type": "markdown",
   "id": "a060be60-c1ad-414e-b850-2a9ee624986d",
   "metadata": {},
   "source": [
    "## Load ranked contingencies"
   ]
  },
  {
   "cell_type": "code",
   "execution_count": null,
   "id": "6da83516-dc36-47c9-8ea0-50d6ebc26e15",
   "metadata": {},
   "outputs": [],
   "source": [
    "df_contg = analyze_results_code.load_df(\"/home/guiu/Projects/CONT_SCR_CRV_REC/Data/Results/\")"
   ]
  },
  {
   "cell_type": "markdown",
   "id": "341bc92c-a12d-4879-8e42-af74e11d77e9",
   "metadata": {},
   "source": [
    "## Show DynaFlow simulation failures\n",
    "Show all contingencies where DynaFlow has failed for the set of simulations provided."
   ]
  },
  {
   "cell_type": "code",
   "execution_count": null,
   "id": "f6f1da28-b3c0-45a9-936b-483adc882168",
   "metadata": {},
   "outputs": [],
   "source": [
    "df_contg[df_contg[\"STATUS\"] == \"HDS\"].sort_values(\"N_ITER\", ascending=False)"
   ]
  },
  {
   "cell_type": "code",
   "execution_count": null,
   "id": "a7971d51-03dc-44a6-956f-82e6dc261999",
   "metadata": {},
   "outputs": [],
   "source": [
    "df_contg[df_contg[\"STATUS\"] == \"HDS\"].index.value_counts()"
   ]
  },
  {
   "cell_type": "markdown",
   "id": "8c472696-af4c-4cdb-908c-0da88b1d2c05",
   "metadata": {},
   "source": [
    "## Show Hades non-convergence\n",
    "Show all contingencies where Hades has failed for the set of simulations provided."
   ]
  },
  {
   "cell_type": "code",
   "execution_count": null,
   "id": "98dfc569-f322-46f3-a82b-229584e9065a",
   "metadata": {},
   "outputs": [],
   "source": [
    "df_contg[df_contg[\"STATUS\"] == \"DWO\"]"
   ]
  },
  {
   "cell_type": "code",
   "execution_count": null,
   "id": "64e76834-31fd-468a-b219-e43c68992e40",
   "metadata": {
    "scrolled": true
   },
   "outputs": [],
   "source": [
    "df_contg[df_contg[\"STATUS\"] == \"DWO\"].index.value_counts()"
   ]
  },
  {
   "cell_type": "markdown",
   "id": "c910ac23-1239-4ed8-9ec3-1d19c9af012d",
   "metadata": {},
   "source": [
    "## Worst contingencies (For cases where both converged)"
   ]
  },
  {
   "cell_type": "code",
   "execution_count": null,
   "id": "1a090707-c037-4d43-a641-9e572c0f9237",
   "metadata": {},
   "outputs": [],
   "source": [
    "df_contg = df_contg.sort_values(by=\"REAL_SCORE\", ascending=False)\n",
    "df_contg[df_contg[\"STATUS\"] == \"BOTH\"]"
   ]
  },
  {
   "cell_type": "markdown",
   "id": "cecff900-5a45-4362-ac5c-fab3492fed98",
   "metadata": {},
   "source": [
    "## Correlation Matrix"
   ]
  },
  {
   "cell_type": "code",
   "execution_count": null,
   "id": "f53a16df-9f14-4933-bb7e-1c92d0675c04",
   "metadata": {},
   "outputs": [],
   "source": [
    "df_filtered = df_contg[df_contg[\"STATUS\"] == \"BOTH\"]\n",
    "analyze_results_code.plot_correlation_matrix(df_filtered)"
   ]
  },
  {
   "cell_type": "markdown",
   "id": "927963b5-7899-41da-add9-9fdf20b12970",
   "metadata": {},
   "source": [
    "## All-time top N most different contingencies (using the Real score, median-based statistic)"
   ]
  },
  {
   "cell_type": "code",
   "execution_count": null,
   "id": "a2fa04be-be7e-44c4-b80e-cd4d53a0139c",
   "metadata": {},
   "outputs": [],
   "source": [
    "analyze_results_code.all_time_top(df_filtered)"
   ]
  },
  {
   "cell_type": "markdown",
   "id": "03d2bb3a-4b67-4ad7-9ed9-4a1c0c577ee4",
   "metadata": {},
   "source": [
    "## Week day top N most different contingencies (using the Real score, median-based statistic)"
   ]
  },
  {
   "cell_type": "code",
   "execution_count": null,
   "id": "e12ee03f-0587-45ec-a770-79ecaf8aa678",
   "metadata": {},
   "outputs": [],
   "source": [
    "analyze_results_code.week_day_top(df_filtered)"
   ]
  },
  {
   "cell_type": "markdown",
   "id": "f6272520-0dcf-4718-805b-4eaf66b17874",
   "metadata": {},
   "source": [
    "## Month top N most different contingencies (using the Real score, median-based statistic)"
   ]
  },
  {
   "cell_type": "code",
   "execution_count": null,
   "id": "c1768ce8-02aa-499e-8304-4597358c8c5a",
   "metadata": {},
   "outputs": [],
   "source": [
    "analyze_results_code.month_top(df_filtered)"
   ]
  },
  {
   "cell_type": "markdown",
   "id": "e7c48c70-33b2-496b-b66d-243f2f3fc7c8",
   "metadata": {},
   "source": [
    "## Hour top N most different contingencies (using the Real score, median-based statistic)"
   ]
  },
  {
   "cell_type": "code",
   "execution_count": null,
   "id": "9d52acd9-a690-46a1-944c-a5706a8e7a6b",
   "metadata": {},
   "outputs": [],
   "source": [
    "analyze_results_code.hour_top(df_filtered)"
   ]
  },
  {
   "cell_type": "markdown",
   "id": "2754c531-6b82-459b-8c29-b4afc110c559",
   "metadata": {},
   "source": [
    "## Calculate quantiles"
   ]
  },
  {
   "cell_type": "code",
   "execution_count": null,
   "id": "c095bb1e-85b1-4c14-b38b-f0c44d2b35a6",
   "metadata": {},
   "outputs": [],
   "source": [
    "for i in range(0, 100, 5):\n",
    "    print(i / 100, df_contg[\"REAL_SCORE\"].quantile(i / 100))"
   ]
  },
  {
   "cell_type": "markdown",
   "id": "b9a25011-c755-4fe8-910b-ff9667191861",
   "metadata": {},
   "source": [
    "## Hour boxplot of real scores"
   ]
  },
  {
   "cell_type": "code",
   "execution_count": null,
   "id": "985b9771-e42a-4ae2-ba5b-dfcde01f97a6",
   "metadata": {},
   "outputs": [],
   "source": [
    "analyze_results_code.hour_boxplot(df_contg, \"REAL_SCORE\")"
   ]
  },
  {
   "cell_type": "markdown",
   "id": "27c8418d-74c0-4779-a6c2-10dda954c287",
   "metadata": {},
   "source": [
    "## Day boxplot of real scores"
   ]
  },
  {
   "cell_type": "code",
   "execution_count": null,
   "id": "302d0185-76b8-441b-97a5-0f97390045e8",
   "metadata": {},
   "outputs": [],
   "source": [
    "analyze_results_code.day_boxplot(df_contg, \"REAL_SCORE\")"
   ]
  },
  {
   "cell_type": "markdown",
   "id": "67aacad8-5092-4fd7-bd40-2cc00227391b",
   "metadata": {},
   "source": [
    "## Real score histogram"
   ]
  },
  {
   "cell_type": "code",
   "execution_count": null,
   "id": "50c74b28-301f-465e-af54-02c95f8ffa4b",
   "metadata": {},
   "outputs": [],
   "source": [
    "analyze_results_code.score_histogram(df_contg, \"REAL_SCORE\")"
   ]
  }
 ],
 "metadata": {
  "kernelspec": {
   "display_name": "cont_scr",
   "language": "python",
   "name": "cont_scr"
  },
  "language_info": {
   "codemirror_mode": {
    "name": "ipython",
    "version": 3
   },
   "file_extension": ".py",
   "mimetype": "text/x-python",
   "name": "python",
   "nbconvert_exporter": "python",
   "pygments_lexer": "ipython3",
   "version": "3.12.3"
  }
 },
 "nbformat": 4,
 "nbformat_minor": 5
}
