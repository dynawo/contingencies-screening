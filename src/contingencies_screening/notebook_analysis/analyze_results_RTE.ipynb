{
 "cells": [
  {
   "cell_type": "code",
   "execution_count": null,
   "id": "223b38e4-5d38-4d4f-9c7b-dcf76788f2ba",
   "metadata": {},
   "outputs": [],
   "source": [
    "import analyze_results_code\n",
    "from sklearn.metrics import mean_absolute_error\n",
    "import matplotlib.pyplot as plt\n",
    "import pandas as pd\n",
    "import numpy as np\n",
    "import shap\n",
    "from sklearn.model_selection import train_test_split\n",
    "import pickle\n",
    "from pathlib import Path\n",
    "import os\n",
    "\n",
    "!pip install jupyter-black --quiet\n",
    "\n",
    "%load_ext jupyter_black"
   ]
  },
  {
   "cell_type": "markdown",
   "id": "113e1b9f-88ae-4078-bbcb-86ebd3be8cea",
   "metadata": {},
   "source": [
    "# GLOBAL ANALYSIS"
   ]
  },
  {
   "cell_type": "markdown",
   "id": "a060be60-c1ad-414e-b850-2a9ee624986d",
   "metadata": {},
   "source": [
    "## Load ranked contingencies"
   ]
  },
  {
   "cell_type": "code",
   "execution_count": null,
   "id": "6da83516-dc36-47c9-8ea0-50d6ebc26e15",
   "metadata": {},
   "outputs": [],
   "source": [
    "# df_contg = analyze_results_code.load_df(\"/home/guiu/Projects/CONT_SCR_CRV_REC/Data\")\n",
    "def load_df(path):\n",
    "    path = Path(path)\n",
    "    first_df = True\n",
    "    df_contg = pd.DataFrame()  # Inicializar un DataFrame vacío\n",
    "\n",
    "    for year_dir in path.iterdir():\n",
    "        if year_dir.is_file():\n",
    "            continue\n",
    "        for month_dir in year_dir.iterdir():\n",
    "            if month_dir.is_file():\n",
    "                continue\n",
    "            for day_dir in month_dir.iterdir():\n",
    "                if day_dir.is_file():\n",
    "                    continue\n",
    "                for time_dir in day_dir.iterdir():\n",
    "                    if os.path.isfile(time_dir):\n",
    "                        if first_df:\n",
    "                            first_df = False\n",
    "                            df_contg = pd.read_csv(time_dir, sep=\";\")\n",
    "                            time_str = str(time_dir.stem)[-22:-9]\n",
    "                            df_contg[\"DATE\"] = time_str + \"00\"\n",
    "                            df_contg[\"DATE\"] = pd.to_datetime(\n",
    "                                df_contg[\"DATE\"], format=\"%Y%m%d_%H%M%S\"\n",
    "                            )\n",
    "                        else:\n",
    "                            df_new = pd.read_csv(time_dir, sep=\";\")\n",
    "                            time_str = str(time_dir.stem)[-22:-9]\n",
    "                            df_new[\"DATE\"] = time_str + \"00\"\n",
    "                            df_new[\"DATE\"] = pd.to_datetime(df_new[\"DATE\"], format=\"%Y%m%d_%H%M%S\")\n",
    "                            df_contg = pd.concat([df_contg, df_new], axis=0, ignore_index=False)\n",
    "\n",
    "    return df_contg.dropna()\n",
    "\n",
    "\n",
    "df_contg = load_df(\"/home/guiu/Projects/CONT_SCR_CRV_REC/Data/Results_Hades_19_03\")\n",
    "df_contg[\"PREDICTED_SCORE\"] = pickle.load(\n",
    "    open(\"/home/guiu/Projects/CONT_SCR_CRV_REC/Data/Models_19_03/GBR_model.pkl\", \"rb\")\n",
    ").predict(df_contg.drop(columns=[\"PREDICTED_SCORE\", \"STATUS\", \"REAL_SCORE\", \"DATE\", \"NAME\"]))\n",
    "df_contg = df_contg.set_index(\"NAME\")\n",
    "df_contg = df_contg.reindex(\n",
    "    [\n",
    "        \"DATE\",\n",
    "        \"STATUS\",\n",
    "        \"PREDICTED_SCORE\",\n",
    "        \"REAL_SCORE\",\n",
    "        \"MIN_VOLT\",\n",
    "        \"MAX_VOLT\",\n",
    "        \"MAX_FLOW\",\n",
    "        \"N_ITER\",\n",
    "        \"AFFECTED_ELEM\",\n",
    "        \"CONSTR_GEN_Q\",\n",
    "        \"CONSTR_GEN_U\",\n",
    "        \"CONSTR_VOLT\",\n",
    "        \"CONSTR_FLOW\",\n",
    "        \"RES_NODE\",\n",
    "        \"COEF_REPORT\",\n",
    "        \"TAP_CHANGERS\",\n",
    "    ],\n",
    "    axis=1,\n",
    ")"
   ]
  },
  {
   "cell_type": "markdown",
   "id": "341bc92c-a12d-4879-8e42-af74e11d77e9",
   "metadata": {},
   "source": [
    "## Show DynaFlow simulation failures\n",
    "Show all contingencies where DynaFlow has failed for the set of simulations provided."
   ]
  },
  {
   "cell_type": "code",
   "execution_count": null,
   "id": "f6f1da28-b3c0-45a9-936b-483adc882168",
   "metadata": {},
   "outputs": [],
   "source": [
    "df_contg[df_contg[\"STATUS\"] == \"HDS\"].sort_values(\"N_ITER\", ascending=False)"
   ]
  },
  {
   "cell_type": "code",
   "execution_count": null,
   "id": "a7971d51-03dc-44a6-956f-82e6dc261999",
   "metadata": {},
   "outputs": [],
   "source": [
    "df_contg[df_contg[\"STATUS\"] == \"HDS\"].index.value_counts()"
   ]
  },
  {
   "cell_type": "markdown",
   "id": "8c472696-af4c-4cdb-908c-0da88b1d2c05",
   "metadata": {},
   "source": [
    "## Show Hades non-convergence\n",
    "Show all contingencies where Hades has failed for the set of simulations provided."
   ]
  },
  {
   "cell_type": "code",
   "execution_count": null,
   "id": "98dfc569-f322-46f3-a82b-229584e9065a",
   "metadata": {},
   "outputs": [],
   "source": [
    "df_contg[df_contg[\"STATUS\"] == \"DWO\"]"
   ]
  },
  {
   "cell_type": "code",
   "execution_count": null,
   "id": "64e76834-31fd-468a-b219-e43c68992e40",
   "metadata": {},
   "outputs": [],
   "source": [
    "df_contg[df_contg[\"STATUS\"] == \"DWO\"].index.value_counts()"
   ]
  },
  {
   "cell_type": "markdown",
   "id": "c910ac23-1239-4ed8-9ec3-1d19c9af012d",
   "metadata": {},
   "source": [
    "## Worst contingencies (For cases where both converged)"
   ]
  },
  {
   "cell_type": "code",
   "execution_count": null,
   "id": "1a090707-c037-4d43-a641-9e572c0f9237",
   "metadata": {},
   "outputs": [],
   "source": [
    "df_contg = df_contg.sort_values(by=\"REAL_SCORE\", ascending=False)\n",
    "df_contg[df_contg[\"STATUS\"] == \"BOTH\"]"
   ]
  },
  {
   "cell_type": "markdown",
   "id": "9afb6fcd-fe75-4427-acb8-6ccc3d57c214",
   "metadata": {},
   "source": [
    "## MAE (Real score vs Predicted score)"
   ]
  },
  {
   "cell_type": "code",
   "execution_count": null,
   "id": "a4389b99-950f-4b60-ad87-f03709034c00",
   "metadata": {},
   "outputs": [],
   "source": [
    "df_filtered = df_contg[df_contg[\"STATUS\"] == \"BOTH\"]\n",
    "\n",
    "mae = mean_absolute_error(df_filtered[\"REAL_SCORE\"], df_filtered[\"PREDICTED_SCORE\"])\n",
    "print(\"Mean Absolute Error:\", mae)"
   ]
  },
  {
   "cell_type": "markdown",
   "id": "927963b5-7899-41da-add9-9fdf20b12970",
   "metadata": {},
   "source": [
    "## All-time top N most different contingencies (using the Real score, median-based statistic)"
   ]
  },
  {
   "cell_type": "code",
   "execution_count": null,
   "id": "a2fa04be-be7e-44c4-b80e-cd4d53a0139c",
   "metadata": {},
   "outputs": [],
   "source": [
    "analyze_results_code.all_time_top(df_filtered)"
   ]
  },
  {
   "cell_type": "markdown",
   "id": "03d2bb3a-4b67-4ad7-9ed9-4a1c0c577ee4",
   "metadata": {},
   "source": [
    "## Week day top N most different contingencies (using the Real score, median-based statistic)"
   ]
  },
  {
   "cell_type": "code",
   "execution_count": null,
   "id": "e12ee03f-0587-45ec-a770-79ecaf8aa678",
   "metadata": {},
   "outputs": [],
   "source": [
    "analyze_results_code.week_day_top(df_filtered)"
   ]
  },
  {
   "cell_type": "markdown",
   "id": "f6272520-0dcf-4718-805b-4eaf66b17874",
   "metadata": {},
   "source": [
    "## Month top N most different contingencies (using the Real score, median-based statistic)"
   ]
  },
  {
   "cell_type": "code",
   "execution_count": null,
   "id": "c1768ce8-02aa-499e-8304-4597358c8c5a",
   "metadata": {},
   "outputs": [],
   "source": [
    "analyze_results_code.month_top(df_filtered)"
   ]
  },
  {
   "cell_type": "markdown",
   "id": "e7c48c70-33b2-496b-b66d-243f2f3fc7c8",
   "metadata": {},
   "source": [
    "## Hour top N most different contingencies (using the Real score, median-based statistic)"
   ]
  },
  {
   "cell_type": "code",
   "execution_count": null,
   "id": "9d52acd9-a690-46a1-944c-a5706a8e7a6b",
   "metadata": {},
   "outputs": [],
   "source": [
    "analyze_results_code.hour_top(df_filtered)"
   ]
  },
  {
   "cell_type": "markdown",
   "id": "2754c531-6b82-459b-8c29-b4afc110c559",
   "metadata": {},
   "source": [
    "## Calculate quantiles"
   ]
  },
  {
   "cell_type": "code",
   "execution_count": null,
   "id": "c095bb1e-85b1-4c14-b38b-f0c44d2b35a6",
   "metadata": {},
   "outputs": [],
   "source": [
    "for i in range(0, 100, 5):\n",
    "    print(i / 100, df_contg[\"REAL_SCORE\"].quantile(i / 100))"
   ]
  },
  {
   "cell_type": "markdown",
   "id": "b9a25011-c755-4fe8-910b-ff9667191861",
   "metadata": {},
   "source": [
    "## Hour boxplot of real scores"
   ]
  },
  {
   "cell_type": "code",
   "execution_count": null,
   "id": "985b9771-e42a-4ae2-ba5b-dfcde01f97a6",
   "metadata": {},
   "outputs": [],
   "source": [
    "analyze_results_code.hour_boxplot(df_contg, \"REAL_SCORE\")"
   ]
  },
  {
   "cell_type": "markdown",
   "id": "07dda725-6740-4812-8289-f37ec0b6efaf",
   "metadata": {},
   "source": [
    "## Hour boxplot of predicted scores"
   ]
  },
  {
   "cell_type": "code",
   "execution_count": null,
   "id": "159e5118-6658-4bca-969a-f8dbf2a3fd60",
   "metadata": {},
   "outputs": [],
   "source": [
    "analyze_results_code.hour_boxplot(df_contg, \"PREDICTED_SCORE\")"
   ]
  },
  {
   "cell_type": "markdown",
   "id": "27c8418d-74c0-4779-a6c2-10dda954c287",
   "metadata": {},
   "source": [
    "## Day boxplot of real scores"
   ]
  },
  {
   "cell_type": "code",
   "execution_count": null,
   "id": "302d0185-76b8-441b-97a5-0f97390045e8",
   "metadata": {},
   "outputs": [],
   "source": [
    "analyze_results_code.day_boxplot(df_contg, \"REAL_SCORE\")"
   ]
  },
  {
   "cell_type": "markdown",
   "id": "bee7bc4e-ef40-49af-9780-80180f501a93",
   "metadata": {},
   "source": [
    "## Day boxplot of predicted scores"
   ]
  },
  {
   "cell_type": "code",
   "execution_count": null,
   "id": "a0dbb950-d238-49b9-8579-df0599f94804",
   "metadata": {},
   "outputs": [],
   "source": [
    "analyze_results_code.day_boxplot(df_contg, \"PREDICTED_SCORE\")"
   ]
  },
  {
   "cell_type": "markdown",
   "id": "67aacad8-5092-4fd7-bd40-2cc00227391b",
   "metadata": {},
   "source": [
    "## Real score histogram"
   ]
  },
  {
   "cell_type": "code",
   "execution_count": null,
   "id": "50c74b28-301f-465e-af54-02c95f8ffa4b",
   "metadata": {},
   "outputs": [],
   "source": [
    "analyze_results_code.score_histogram(df_contg, \"REAL_SCORE\")"
   ]
  },
  {
   "cell_type": "markdown",
   "id": "d882f998-e7ed-4d1e-8783-bbddc51a0b68",
   "metadata": {},
   "source": [
    "## Predicted score histogram"
   ]
  },
  {
   "cell_type": "code",
   "execution_count": null,
   "id": "fcf4c3d2-fc08-4157-93db-f23eb3ea64d7",
   "metadata": {},
   "outputs": [],
   "source": [
    "analyze_results_code.score_histogram(df_contg, \"PREDICTED_SCORE\")"
   ]
  },
  {
   "cell_type": "markdown",
   "id": "1c01458c-ad40-4cbe-ada4-d29fa593d926",
   "metadata": {},
   "source": [
    "## Shap values"
   ]
  },
  {
   "cell_type": "code",
   "execution_count": null,
   "id": "f1e0330c-c984-4cce-98cc-4d3bd3d1435c",
   "metadata": {},
   "outputs": [],
   "source": [
    "# Get shap values\n",
    "np.bool = bool\n",
    "explainer = shap.TreeExplainer(\n",
    "    pickle.load(\n",
    "        open(\"/home/guiu/Projects/CONT_SCR_CRV_REC/Data/Models_19_03/GBR_model.pkl\", \"rb\")\n",
    "    ),\n",
    "    link=\"logit\",\n",
    ")"
   ]
  },
  {
   "cell_type": "code",
   "execution_count": null,
   "id": "74bc9cb7-5208-4184-9736-452cbfd0d8f9",
   "metadata": {},
   "outputs": [],
   "source": [
    "_, X_test = train_test_split(\n",
    "    df_contg.drop(columns=[\"PREDICTED_SCORE\", \"STATUS\", \"REAL_SCORE\", \"DATE\"]),\n",
    "    test_size=0.2,\n",
    "    random_state=42,\n",
    ")\n",
    "\n",
    "\n",
    "shap_values = explainer.shap_values(X_test)\n",
    "\n",
    "plt.clf()\n",
    "shap.summary_plot(shap_values, X_test, show=False)\n",
    "plt.show()"
   ]
  },
  {
   "cell_type": "code",
   "execution_count": null,
   "id": "5f28de95-661d-4206-a319-8e2bb61b1002",
   "metadata": {},
   "outputs": [],
   "source": [
    "shap.dependence_plot(\n",
    "    \"MIN_VOLT\",\n",
    "    shap_values,\n",
    "    X_test,\n",
    ")"
   ]
  },
  {
   "cell_type": "code",
   "execution_count": null,
   "id": "31b0c1c0-8ff6-4553-ae18-5ad17d3e78e5",
   "metadata": {},
   "outputs": [],
   "source": [
    "shap.dependence_plot(\n",
    "    \"MAX_VOLT\",\n",
    "    shap_values,\n",
    "    X_test,\n",
    ")"
   ]
  },
  {
   "cell_type": "code",
   "execution_count": null,
   "id": "744f5eed-3a85-44c6-b9f2-b0dee3c0bf14",
   "metadata": {},
   "outputs": [],
   "source": [
    "shap.dependence_plot(\n",
    "    \"MAX_FLOW\",\n",
    "    shap_values,\n",
    "    X_test,\n",
    ")"
   ]
  },
  {
   "cell_type": "code",
   "execution_count": null,
   "id": "aaa983b5-fc77-4b0c-b98b-21cda12f463d",
   "metadata": {},
   "outputs": [],
   "source": [
    "shap.dependence_plot(\n",
    "    \"N_ITER\",\n",
    "    shap_values,\n",
    "    X_test,\n",
    ")"
   ]
  },
  {
   "cell_type": "code",
   "execution_count": null,
   "id": "dcd688db-42f1-44f2-a5d5-f9e9998df3b1",
   "metadata": {},
   "outputs": [],
   "source": [
    "shap.dependence_plot(\n",
    "    \"AFFECTED_ELEM\",\n",
    "    shap_values,\n",
    "    X_test,\n",
    ")"
   ]
  },
  {
   "cell_type": "code",
   "execution_count": null,
   "id": "d00e51e8-1e4f-4944-9429-52573e2ac116",
   "metadata": {},
   "outputs": [],
   "source": [
    "shap.dependence_plot(\n",
    "    \"CONSTR_GEN_Q\",\n",
    "    shap_values,\n",
    "    X_test,\n",
    ")"
   ]
  },
  {
   "cell_type": "code",
   "execution_count": null,
   "id": "ad606340-3ab0-4d62-85dd-f7e610a90c8e",
   "metadata": {},
   "outputs": [],
   "source": [
    "shap.dependence_plot(\n",
    "    \"CONSTR_VOLT\",\n",
    "    shap_values,\n",
    "    X_test,\n",
    ")"
   ]
  },
  {
   "cell_type": "code",
   "execution_count": null,
   "id": "d3c3b3c3-b474-43db-b9db-c88d6e5a83f7",
   "metadata": {},
   "outputs": [],
   "source": [
    "shap.dependence_plot(\n",
    "    \"CONSTR_FLOW\",\n",
    "    shap_values,\n",
    "    X_test,\n",
    ")"
   ]
  },
  {
   "cell_type": "code",
   "execution_count": null,
   "id": "79f1fc23-fe0e-4e58-b0de-e497267b91b4",
   "metadata": {},
   "outputs": [],
   "source": [
    "shap.dependence_plot(\n",
    "    \"RES_NODE\",\n",
    "    shap_values,\n",
    "    X_test,\n",
    ")"
   ]
  },
  {
   "cell_type": "code",
   "execution_count": null,
   "id": "1dbebc2e-6b8e-4442-8972-c47c5b1a4246",
   "metadata": {},
   "outputs": [],
   "source": [
    "shap.dependence_plot(\n",
    "    \"COEF_REPORT\",\n",
    "    shap_values,\n",
    "    X_test,\n",
    ")"
   ]
  },
  {
   "cell_type": "code",
   "execution_count": null,
   "id": "66806ef6-dae9-484d-8b3a-f2446552a257",
   "metadata": {},
   "outputs": [],
   "source": [
    "shap.dependence_plot(\n",
    "    \"TAP_CHANGERS\",\n",
    "    shap_values,\n",
    "    X_test,\n",
    ")"
   ]
  },
  {
   "cell_type": "code",
   "execution_count": null,
   "id": "c275ccbb-11b4-4d2d-a932-bbce3a70fa44",
   "metadata": {},
   "outputs": [],
   "source": []
  }
 ],
 "metadata": {
  "kernelspec": {
   "display_name": "Python 3 (ipykernel)",
   "language": "python",
   "name": "python3"
  },
  "language_info": {
   "codemirror_mode": {
    "name": "ipython",
    "version": 3
   },
   "file_extension": ".py",
   "mimetype": "text/x-python",
   "name": "python",
   "nbconvert_exporter": "python",
   "pygments_lexer": "ipython3",
   "version": "3.12.3"
  }
 },
 "nbformat": 4,
 "nbformat_minor": 5
}
