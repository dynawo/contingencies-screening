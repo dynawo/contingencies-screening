{
 "cells": [
  {
   "cell_type": "code",
   "execution_count": null,
   "id": "223b38e4-5d38-4d4f-9c7b-dcf76788f2ba",
   "metadata": {},
   "outputs": [],
   "source": [
    "import analyze_results_code\n",
    "from sklearn.metrics import mean_absolute_error, root_mean_squared_error\n",
    "from datetime import datetime\n",
    "import matplotlib.pyplot as plt\n",
    "import seaborn as sns\n",
    "import pandas as pd\n",
    "import numpy as np\n",
    "import shap\n",
    "from sklearn.model_selection import train_test_split\n",
    "import pickle"
   ]
  },
  {
   "cell_type": "markdown",
   "id": "113e1b9f-88ae-4078-bbcb-86ebd3be8cea",
   "metadata": {},
   "source": [
    "# GLOBAL ANALYSIS"
   ]
  },
  {
   "cell_type": "markdown",
   "id": "a060be60-c1ad-414e-b850-2a9ee624986d",
   "metadata": {},
   "source": [
    "## Load ranked contingencies"
   ]
  },
  {
   "cell_type": "code",
   "execution_count": null,
   "id": "6da83516-dc36-47c9-8ea0-50d6ebc26e15",
   "metadata": {},
   "outputs": [],
   "source": [
    "df_contg = analyze_results_code.load_df(\"/home/guiu/Projects/CONT_SCR_CRV_REC/Data/Results_TAPS_Test/\")"
   ]
  },
  {
   "cell_type": "code",
   "execution_count": null,
   "id": "d8945a70-566a-472f-977c-c1df4a1ac4f1",
   "metadata": {},
   "outputs": [],
   "source": [
    "ML_model = pickle.load(\n",
    "    open(\"/home/guiu/Projects/CONT_SCR_CRV_REC/Data/FINAL_MODELS/TAPS/GBR_model.pkl\", \"rb\")\n",
    ")\n",
    "df_contg[\"PREDICTED_SCORE\"] = ML_model.predict(\n",
    "    df_contg.drop(columns=[\"PREDICTED_SCORE\", \"STATUS\", \"REAL_SCORE\", \"DATE\"])\n",
    ")"
   ]
  },
  {
   "cell_type": "markdown",
   "id": "c184f545-ec8b-40bc-a54f-d022f4a1350e",
   "metadata": {},
   "source": [
    "## MAE (Real score vs Predicted score)"
   ]
  },
  {
   "cell_type": "code",
   "execution_count": null,
   "id": "41a42160-8eea-4391-ac3b-bc409c6bcd71",
   "metadata": {},
   "outputs": [],
   "source": [
    "df_filtered = df_contg[df_contg[\"STATUS\"] == \"BOTH\"]\n",
    "\n",
    "mae = mean_absolute_error(df_filtered[\"REAL_SCORE\"], df_filtered[\"PREDICTED_SCORE\"])\n",
    "print(\"Mean Absolute Error:\", mae)"
   ]
  },
  {
   "cell_type": "markdown",
   "id": "3d54da2f-1c63-4851-bd2d-b8e06da6b9f8",
   "metadata": {},
   "source": [
    "## RMSE (Real score vs Predicted score)"
   ]
  },
  {
   "cell_type": "code",
   "execution_count": null,
   "id": "7447e044-597e-4a59-b86c-44884e797d7a",
   "metadata": {},
   "outputs": [],
   "source": [
    "rmse = root_mean_squared_error(df_filtered[\"REAL_SCORE\"], df_filtered[\"PREDICTED_SCORE\"])\n",
    "print(\"Root Mean Squared Error:\", rmse)"
   ]
  },
  {
   "cell_type": "code",
   "execution_count": null,
   "id": "922f4460-96dc-4eb1-9d17-365f05218780",
   "metadata": {},
   "outputs": [],
   "source": [
    "analyze_results_code.real_vs_predicted_score(df_filtered, mae)"
   ]
  },
  {
   "cell_type": "code",
   "execution_count": null,
   "id": "f2a8a894-6b9f-42fe-b2ff-6fc0fa22dcde",
   "metadata": {},
   "outputs": [],
   "source": [
    "analyze_results_code.plot_residual_distribution(df_filtered)"
   ]
  },
  {
   "cell_type": "markdown",
   "id": "b9a25011-c755-4fe8-910b-ff9667191861",
   "metadata": {},
   "source": [
    "## Hour boxplot of real scores"
   ]
  },
  {
   "cell_type": "code",
   "execution_count": null,
   "id": "985b9771-e42a-4ae2-ba5b-dfcde01f97a6",
   "metadata": {},
   "outputs": [],
   "source": [
    "analyze_results_code.hour_boxplot(df_contg, \"REAL_SCORE\")"
   ]
  },
  {
   "cell_type": "markdown",
   "id": "07dda725-6740-4812-8289-f37ec0b6efaf",
   "metadata": {},
   "source": [
    "## Hour boxplot of predicted scores"
   ]
  },
  {
   "cell_type": "code",
   "execution_count": null,
   "id": "159e5118-6658-4bca-969a-f8dbf2a3fd60",
   "metadata": {},
   "outputs": [],
   "source": [
    "str_date_1 = \"2024-12-21 00:00:00\"\n",
    "str_date_2 = \"2024-12-21 23:59:59\"\n",
    "df_contg = df_contg.sort_values(by=\"DATE\", ascending=True)\n",
    "\n",
    "mask = (df_contg[\"DATE\"] > datetime.strptime(str_date_1, \"%Y-%m-%d %H:%M:%S\")) & (\n",
    "    df_contg[\"DATE\"] <= datetime.strptime(str_date_2, \"%Y-%m-%d %H:%M:%S\")\n",
    ")\n",
    "\n",
    "df_filtered = df_contg.loc[mask]\n",
    "\n",
    "df_filtered = df_filtered[df_filtered[\"STATUS\"] == \"BOTH\"]\n",
    "\n",
    "if not df_filtered.empty:\n",
    "    plt.figure(figsize=(12, 6))  # Set the size of the figure\n",
    "    ax = plt.axes()\n",
    "    ax.set_facecolor(\"white\")\n",
    "    sns.boxplot(\n",
    "        x=df_filtered[\"DATE\"].dt.strftime(\"%Y/%m/%d, %H:%M\"),\n",
    "        y=pd.to_numeric(df_filtered[\"PREDICTED_SCORE\"]),\n",
    "    ).set(xlabel=\"DATE\", ylabel=\"PREDICTED_SCORE\")\n",
    "    plt.xticks(rotation=45, ha=\"right\")  # Rotate the x-axis labels and align them to the right\n",
    "\n",
    "    # Calculate the dynamic limits for the y-axis (5th and 95th percentiles)\n",
    "    lower_limit = df_filtered[\"PREDICTED_SCORE\"].quantile(0.05)\n",
    "    upper_limit = df_filtered[\"PREDICTED_SCORE\"].quantile(0.95)\n",
    "    if not pd.isna(lower_limit) and not pd.isna(upper_limit):\n",
    "        plt.ylim(lower_limit, upper_limit)\n",
    "\n",
    "    plt.grid(color=\"grey\", linewidth=0.5)\n",
    "    plt.title(\"Boxplot of PREDICTED_SCORE\")  # Add a title to the plot\n",
    "    plt.tight_layout()  # Adjust the layout so that elements do not overlap\n",
    "    plt.show()\n",
    "else:\n",
    "    print(\"The DataFrame is empty, the plot cannot be generated.\")"
   ]
  },
  {
   "cell_type": "markdown",
   "id": "27c8418d-74c0-4779-a6c2-10dda954c287",
   "metadata": {},
   "source": [
    "## Day boxplot of real scores"
   ]
  },
  {
   "cell_type": "code",
   "execution_count": null,
   "id": "302d0185-76b8-441b-97a5-0f97390045e8",
   "metadata": {},
   "outputs": [],
   "source": [
    "analyze_results_code.day_boxplot(df_contg, \"REAL_SCORE\")"
   ]
  },
  {
   "cell_type": "markdown",
   "id": "bee7bc4e-ef40-49af-9780-80180f501a93",
   "metadata": {},
   "source": [
    "## Day boxplot of predicted scores"
   ]
  },
  {
   "cell_type": "code",
   "execution_count": null,
   "id": "a0dbb950-d238-49b9-8579-df0599f94804",
   "metadata": {},
   "outputs": [],
   "source": [
    "str_date_1 = \"2024-12-01 00:00:00\"\n",
    "str_date_2 = \"2024-12-31 23:59:59\"\n",
    "df_contg = df_contg.sort_values(by=\"DATE\", ascending=True)\n",
    "\n",
    "mask = (df_contg[\"DATE\"] > datetime.strptime(str_date_1, \"%Y-%m-%d %H:%M:%S\")) & (\n",
    "    df_contg[\"DATE\"] <= datetime.strptime(str_date_2, \"%Y-%m-%d %H:%M:%S\")\n",
    ")\n",
    "\n",
    "df_filtered = df_contg.loc[mask]\n",
    "\n",
    "df_filtered = df_filtered[df_filtered[\"STATUS\"] == \"BOTH\"]\n",
    "\n",
    "df_filtered[\"DATE\"] = pd.to_datetime(df_filtered[\"DATE\"], format=\"%Y-%m-%d %H:%M:%S\").dt.date\n",
    "\n",
    "if not df_filtered.empty:\n",
    "    plt.figure(figsize=(12, 6))  # Set the size of the figure\n",
    "    ax = plt.axes()\n",
    "    ax.set_facecolor(\"white\")\n",
    "    sns.boxplot(x=df_filtered[\"DATE\"], y=pd.to_numeric(df_filtered[\"PREDICTED_SCORE\"])).set(\n",
    "        xlabel=\"DATE\", ylabel=\"PREDICTED_SCORE\"\n",
    "    )\n",
    "    plt.xticks(rotation=45, ha=\"right\")  # Rotate the x-axis labels and align them to the right\n",
    "\n",
    "    # Calculate the dynamic limits for the y-axis (5th and 95th percentiles)\n",
    "    lower_limit = df_filtered[\"PREDICTED_SCORE\"].quantile(0.05)\n",
    "    upper_limit = df_filtered[\"PREDICTED_SCORE\"].quantile(0.95)\n",
    "    if not pd.isna(lower_limit) and not pd.isna(upper_limit):\n",
    "        plt.ylim(lower_limit, upper_limit)\n",
    "\n",
    "    plt.grid(color=\"grey\", linewidth=0.5)\n",
    "    plt.title(\"Boxplot of PREDICTED_SCORE\")  # Add a title to the plot\n",
    "    plt.tight_layout()  # Adjust the layout so that elements do not overlap\n",
    "    plt.show()\n",
    "else:\n",
    "    print(\"The DataFrame is empty, the plot cannot be generated.\")"
   ]
  },
  {
   "cell_type": "markdown",
   "id": "67aacad8-5092-4fd7-bd40-2cc00227391b",
   "metadata": {},
   "source": [
    "## Real score histogram"
   ]
  },
  {
   "cell_type": "code",
   "execution_count": null,
   "id": "50c74b28-301f-465e-af54-02c95f8ffa4b",
   "metadata": {},
   "outputs": [],
   "source": [
    "analyze_results_code.score_histogram(df_contg, \"REAL_SCORE\")"
   ]
  },
  {
   "cell_type": "markdown",
   "id": "d882f998-e7ed-4d1e-8783-bbddc51a0b68",
   "metadata": {},
   "source": [
    "## Predicted score histogram"
   ]
  },
  {
   "cell_type": "code",
   "execution_count": null,
   "id": "fcf4c3d2-fc08-4157-93db-f23eb3ea64d7",
   "metadata": {},
   "outputs": [],
   "source": [
    "analyze_results_code.score_histogram(df_contg, \"PREDICTED_SCORE\")"
   ]
  },
  {
   "cell_type": "markdown",
   "id": "311b038c-c0c7-4e34-838a-4864ae8b52e2",
   "metadata": {},
   "source": [
    "## GBM explanation"
   ]
  },
  {
   "cell_type": "code",
   "execution_count": null,
   "id": "f1e0330c-c984-4cce-98cc-4d3bd3d1435c",
   "metadata": {},
   "outputs": [],
   "source": [
    "# Get shap values\n",
    "np.bool = bool\n",
    "explainer = shap.TreeExplainer(\n",
    "    ML_model,\n",
    "    link=\"logit\",\n",
    ")"
   ]
  },
  {
   "cell_type": "code",
   "execution_count": null,
   "id": "74bc9cb7-5208-4184-9736-452cbfd0d8f9",
   "metadata": {},
   "outputs": [],
   "source": [
    "_, X_test = train_test_split(\n",
    "    df_contg.drop(columns=[\"PREDICTED_SCORE\", \"STATUS\", \"REAL_SCORE\", \"DATE\"]),\n",
    "    test_size=0.2,\n",
    "    random_state=42,\n",
    ")\n",
    "\n",
    "shap_values = explainer.shap_values(X_test)\n",
    "\n",
    "plt.clf()\n",
    "shap.summary_plot(shap_values, X_test, show=False)\n",
    "plt.show()"
   ]
  },
  {
   "cell_type": "code",
   "execution_count": null,
   "id": "5f28de95-661d-4206-a319-8e2bb61b1002",
   "metadata": {},
   "outputs": [],
   "source": [
    "shap.dependence_plot(\n",
    "    \"MIN_VOLT\",\n",
    "    shap_values,\n",
    "    X_test,\n",
    ")"
   ]
  },
  {
   "cell_type": "code",
   "execution_count": null,
   "id": "31b0c1c0-8ff6-4553-ae18-5ad17d3e78e5",
   "metadata": {},
   "outputs": [],
   "source": [
    "shap.dependence_plot(\n",
    "    \"MAX_VOLT\",\n",
    "    shap_values,\n",
    "    X_test,\n",
    ")"
   ]
  },
  {
   "cell_type": "code",
   "execution_count": null,
   "id": "744f5eed-3a85-44c6-b9f2-b0dee3c0bf14",
   "metadata": {},
   "outputs": [],
   "source": [
    "shap.dependence_plot(\n",
    "    \"MAX_FLOW\",\n",
    "    shap_values,\n",
    "    X_test,\n",
    ")"
   ]
  },
  {
   "cell_type": "code",
   "execution_count": null,
   "id": "aaa983b5-fc77-4b0c-b98b-21cda12f463d",
   "metadata": {},
   "outputs": [],
   "source": [
    "shap.dependence_plot(\n",
    "    \"N_ITER\",\n",
    "    shap_values,\n",
    "    X_test,\n",
    ")"
   ]
  },
  {
   "cell_type": "code",
   "execution_count": null,
   "id": "dcd688db-42f1-44f2-a5d5-f9e9998df3b1",
   "metadata": {},
   "outputs": [],
   "source": [
    "shap.dependence_plot(\n",
    "    \"AFFECTED_ELEM\",\n",
    "    shap_values,\n",
    "    X_test,\n",
    ")"
   ]
  },
  {
   "cell_type": "code",
   "execution_count": null,
   "id": "d00e51e8-1e4f-4944-9429-52573e2ac116",
   "metadata": {},
   "outputs": [],
   "source": [
    "shap.dependence_plot(\n",
    "    \"CONSTR_GEN_Q\",\n",
    "    shap_values,\n",
    "    X_test,\n",
    ")"
   ]
  },
  {
   "cell_type": "code",
   "execution_count": null,
   "id": "ad606340-3ab0-4d62-85dd-f7e610a90c8e",
   "metadata": {},
   "outputs": [],
   "source": [
    "shap.dependence_plot(\n",
    "    \"CONSTR_VOLT\",\n",
    "    shap_values,\n",
    "    X_test,\n",
    ")"
   ]
  },
  {
   "cell_type": "code",
   "execution_count": null,
   "id": "d3c3b3c3-b474-43db-b9db-c88d6e5a83f7",
   "metadata": {},
   "outputs": [],
   "source": [
    "shap.dependence_plot(\n",
    "    \"CONSTR_FLOW\",\n",
    "    shap_values,\n",
    "    X_test,\n",
    ")"
   ]
  },
  {
   "cell_type": "code",
   "execution_count": null,
   "id": "79f1fc23-fe0e-4e58-b0de-e497267b91b4",
   "metadata": {},
   "outputs": [],
   "source": [
    "shap.dependence_plot(\n",
    "    \"RES_NODE\",\n",
    "    shap_values,\n",
    "    X_test,\n",
    ")"
   ]
  },
  {
   "cell_type": "code",
   "execution_count": null,
   "id": "1dbebc2e-6b8e-4442-8972-c47c5b1a4246",
   "metadata": {},
   "outputs": [],
   "source": [
    "shap.dependence_plot(\n",
    "    \"COEF_REPORT\",\n",
    "    shap_values,\n",
    "    X_test,\n",
    ")"
   ]
  },
  {
   "cell_type": "code",
   "execution_count": null,
   "id": "66806ef6-dae9-484d-8b3a-f2446552a257",
   "metadata": {},
   "outputs": [],
   "source": [
    "shap.dependence_plot(\n",
    "    \"TAP_CHANGERS\",\n",
    "    shap_values,\n",
    "    X_test,\n",
    ")"
   ]
  },
  {
   "cell_type": "code",
   "execution_count": null,
   "id": "e38d5517-24b5-4708-a7f5-3da4fcb62fb7",
   "metadata": {},
   "outputs": [],
   "source": []
  }
 ],
 "metadata": {
  "kernelspec": {
   "display_name": "cont_scr",
   "language": "python",
   "name": "cont_scr"
  },
  "language_info": {
   "codemirror_mode": {
    "name": "ipython",
    "version": 3
   },
   "file_extension": ".py",
   "mimetype": "text/x-python",
   "name": "python",
   "nbconvert_exporter": "python",
   "pygments_lexer": "ipython3",
   "version": "3.12.3"
  }
 },
 "nbformat": 4,
 "nbformat_minor": 5
}
